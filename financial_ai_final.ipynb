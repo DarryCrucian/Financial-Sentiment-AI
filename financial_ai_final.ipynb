{
 "cells": [
  {
   "cell_type": "markdown",
   "id": "487aff9f",
   "metadata": {},
   "source": [
    "# Financial AI - Refactored Notebook\n",
    "This notebook contains the refactored code for the Financial AI project."
   ]
  },
  {
   "cell_type": "code",
   "execution_count": null,
   "id": "7f15b405",
   "metadata": {},
   "outputs": [],
   "source": [
    "\n",
    "# Import necessary libraries\n",
    "import os\n",
    "import warnings\n",
    "from transformers import pipeline\n",
    "import spacy\n",
    "import gradio as gr\n",
    "\n",
    "warnings.filterwarnings(\"ignore\")\n",
    "\n",
    "# Initialize spaCy once and load the model\n",
    "nlp = spacy.load('en_core_web_sm')\n",
    "nlp.add_pipe('sentencizer')\n"
   ]
  },
  {
   "cell_type": "code",
   "execution_count": 2,
   "id": "21c5ac5b",
   "metadata": {},
   "outputs": [],
   "source": [
    "\n",
    "# Function to initialize all models at once\n",
    "def initialize_models():\n",
    "    try:\n",
    "        asr = pipeline(\"automatic-speech-recognition\", \"facebook/wav2vec2-base-960h\")\n",
    "        summarizer = pipeline(\"summarization\", model=\"knkarthick/MEETING_SUMMARY\")\n",
    "        fin_model = pipeline(\"sentiment-analysis\", model='yiyanghkust/finbert-tone', tokenizer='yiyanghkust/finbert-tone')\n",
    "        return asr, summarizer, fin_model\n",
    "    except Exception as e:\n",
    "        print(f\"Error initializing models: {e}\")\n",
    "        return None, None, None\n"
   ]
  },
  {
   "cell_type": "code",
   "execution_count": 3,
   "id": "1e4ea207",
   "metadata": {},
   "outputs": [],
   "source": [
    "\n",
    "# Function for splitting text into sentences\n",
    "def split_in_sentences(text):\n",
    "    \"\"\"\n",
    "    Splits the input text into sentences using spaCy.\n",
    "\n",
    "    Args:\n",
    "        text (str): The input text to be split.\n",
    "\n",
    "    Returns:\n",
    "        list: A list of sentences.\n",
    "    \"\"\"\n",
    "    doc = nlp(text)\n",
    "    return [str(sent).strip() for sent in doc.sents]\n"
   ]
  },
  {
   "cell_type": "code",
   "execution_count": 4,
   "id": "0ef5974e",
   "metadata": {},
   "outputs": [],
   "source": [
    "\n",
    "# Function to transcribe audio using ASR\n",
    "def transcribe_audio(audio, pipelines):\n",
    "    \"\"\"\n",
    "    Transcribes audio to text using the ASR pipeline.\n",
    "\n",
    "    Args:\n",
    "        audio: Audio input to be transcribed.\n",
    "        pipelines (dict): Dictionary containing the initialized models.\n",
    "\n",
    "    Returns:\n",
    "        str: The transcribed text.\n",
    "    \"\"\"\n",
    "    try:\n",
    "        return pipelines['asr'](audio)[\"text\"]\n",
    "    except Exception as e:\n",
    "        print(f\"Error transcribing audio: {e}\")\n",
    "        return \"\"\n"
   ]
  },
  {
   "cell_type": "code",
   "execution_count": 5,
   "id": "bf9ddd61",
   "metadata": {},
   "outputs": [],
   "source": [
    "\n",
    "# Function for summarizing text\n",
    "def summarize_text(text, pipelines):\n",
    "    \"\"\"\n",
    "    Summarizes the input text using the summarizer pipeline.\n",
    "\n",
    "    Args:\n",
    "        text (str): The text to be summarized.\n",
    "        pipelines (dict): Dictionary containing the initialized models.\n",
    "\n",
    "    Returns:\n",
    "        str: The summarized text.\n",
    "    \"\"\"\n",
    "    try:\n",
    "        resp = pipelines['summarizer'](text)\n",
    "        return resp[0]['summary_text']\n",
    "    except Exception as e:\n",
    "        print(f\"Error summarizing text: {e}\")\n",
    "        return \"\"\n"
   ]
  },
  {
   "cell_type": "code",
   "execution_count": 6,
   "id": "9c777c75",
   "metadata": {},
   "outputs": [],
   "source": [
    "\n",
    "# Function for sentiment analysis using FinBERT\n",
    "def text_to_sentiment(text, pipelines):\n",
    "    \"\"\"\n",
    "    Analyzes the sentiment of the input text using the FinBERT model.\n",
    "\n",
    "    Args:\n",
    "        text (str): The text for sentiment analysis.\n",
    "        pipelines (dict): Dictionary containing the initialized models.\n",
    "\n",
    "    Returns:\n",
    "        str: The sentiment label.\n",
    "    \"\"\"\n",
    "    try:\n",
    "        return pipelines['sentiment'](text)[0][\"label\"]\n",
    "    except Exception as e:\n",
    "        print(f\"Error in sentiment analysis: {e}\")\n",
    "        return \"\"\n"
   ]
  },
  {
   "cell_type": "code",
   "execution_count": null,
   "id": "528064cc",
   "metadata": {},
   "outputs": [],
   "source": [
    "\n",
    "# Initialize pipelines\n",
    "pipelines = {\n",
    "    'asr': None,\n",
    "    'summarizer': None,\n",
    "    'sentiment': None\n",
    "}\n",
    "\n",
    "# Load the models into the pipeline dictionary\n",
    "pipelines['asr'], pipelines['summarizer'], pipelines['sentiment'] = initialize_models()\n"
   ]
  },
  {
   "cell_type": "code",
   "execution_count": null,
   "id": "ec27b456",
   "metadata": {},
   "outputs": [],
   "source": [
    "import gradio as gr\n",
    "\n",
    "def transcribe_audio_with_pipeline(audio):\n",
    "    return transcribe_audio(audio, pipelines)\n",
    "\n",
    "def summarize_text_with_pipeline(text):\n",
    "    return summarize_text(text, pipelines)\n",
    "\n",
    "def text_to_sentiment_with_pipeline(text):\n",
    "    return text_to_sentiment(text, pipelines)\n",
    "\n",
    "def create_interface():\n",
    "    with gr.Blocks() as demo:\n",
    "        gr.Markdown(\"## Financial Analyst AI\")\n",
    "        gr.Markdown(\"This project applies AI trained to analyze earning calls and other financial documents.\")\n",
    "        with gr.Row():\n",
    "            with gr.Column():\n",
    "                audio_file = gr.Audio(source=\"microphone\", type=\"filepath\")\n",
    "                text_box = gr.Textbox(label=\"Transcribed Text\")\n",
    "                b1 = gr.Button(\"Recognize Speech\")\n",
    "                b1.click(fn=transcribe_audio_with_pipeline, inputs=audio_file, outputs=text_box)\n",
    "                \n",
    "                summary_box = gr.Textbox(label=\"Summary\")\n",
    "                b2 = gr.Button(\"Summarize Text\")\n",
    "                b2.click(fn=summarize_text_with_pipeline, inputs=text_box, outputs=summary_box)\n",
    "                \n",
    "                sentiment_label = gr.Label(label=\"Financial Tone\")\n",
    "                b3 = gr.Button(\"Classify Financial Tone\")\n",
    "                b3.click(fn=text_to_sentiment_with_pipeline, inputs=summary_box, outputs=sentiment_label)\n",
    "\n",
    "    demo.launch()\n",
    "\n",
    "# Launch the interface\n",
    "create_interface()\n"
   ]
  }
 ],
 "metadata": {
  "kernelspec": {
   "display_name": "Python 3",
   "language": "python",
   "name": "python3"
  },
  "language_info": {
   "codemirror_mode": {
    "name": "ipython",
    "version": 3
   },
   "file_extension": ".py",
   "mimetype": "text/x-python",
   "name": "python",
   "nbconvert_exporter": "python",
   "pygments_lexer": "ipython3",
   "version": "3.11.3"
  }
 },
 "nbformat": 4,
 "nbformat_minor": 5
}
